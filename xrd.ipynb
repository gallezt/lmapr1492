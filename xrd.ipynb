{
 "cells": [
  {
   "cell_type": "code",
   "execution_count": 34,
   "id": "fitting-niger",
   "metadata": {},
   "outputs": [],
   "source": [
    "from pymatgen.ext.matproj import MPRester\n",
    "from pymatgen.io.cif import CifWriter\n",
    "from pymatgen.analysis.diffraction.xrd import XRDCalculator\n",
    "from pymatgen.analysis.diffraction.core import *"
   ]
  },
  {
   "cell_type": "code",
   "execution_count": 35,
   "id": "impaired-shower",
   "metadata": {},
   "outputs": [],
   "source": [
    "with MPRester(\"6J45krBxKRTOXQdg\") as m:\n",
    "    structure = m.get_structure_by_material_id(\"mp-777047\")\n",
    "    file = CifWriter(structure)\n",
    "    file.write_file('Structure-LiTmO2')"
   ]
  },
  {
   "cell_type": "code",
   "execution_count": 36,
   "id": "angry-emerald",
   "metadata": {},
   "outputs": [
    {
     "name": "stdout",
     "output_type": "stream",
     "text": [
      "Pic 1: 2 theta = 17.582755, Intensité = 100.000000, hkl = (1 1 1), d_hkl = 5.044063 \n",
      "\n",
      "Pic 2: 2 theta = 31.736061, Intensité = 67.301394, hkl = (1 0 0), d_hkl = 2.819519 \n",
      "\n",
      "Pic 3: 2 theta = 33.393802, Intensité = 43.684370, hkl = (1 1 0), d_hkl = 2.683246 \n",
      "\n"
     ]
    }
   ],
   "source": [
    "calculator = XRDCalculator()\n",
    "pattern = calculator.get_pattern(structure)\n",
    "\n",
    "X = pattern.x[0:3]\n",
    "Y = pattern.y[0:3]\n",
    "hkls = pattern.hkls[0:3]\n",
    "d_hkls = pattern.d_hkls[0:3]\n",
    "\n",
    "for i in range(3):\n",
    "    print(\"Pic %d: 2 theta = %f, Intensité = %f, hkl = (%d %d %d), d_hkl = %f \\n\" % (i+1, X[i], Y[i], hkls[i][0]['hkl'][0], hkls[i][0]['hkl'][1], hkls[i][0]['hkl'][2], d_hkls[i]))"
   ]
  },
  {
   "cell_type": "code",
   "execution_count": null,
   "id": "vocational-rally",
   "metadata": {},
   "outputs": [],
   "source": []
  }
 ],
 "metadata": {
  "kernelspec": {
   "display_name": "Python 3",
   "language": "python",
   "name": "python3"
  },
  "language_info": {
   "codemirror_mode": {
    "name": "ipython",
    "version": 3
   },
   "file_extension": ".py",
   "mimetype": "text/x-python",
   "name": "python",
   "nbconvert_exporter": "python",
   "pygments_lexer": "ipython3",
   "version": "3.6.8"
  }
 },
 "nbformat": 4,
 "nbformat_minor": 5
}

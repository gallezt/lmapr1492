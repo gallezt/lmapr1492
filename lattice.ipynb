{
 "cells": [
  {
   "cell_type": "code",
   "execution_count": 2,
   "id": "extraordinary-traveler",
   "metadata": {},
   "outputs": [
    {
     "name": "stdout",
     "output_type": "stream",
     "text": [
      "ok\n"
     ]
    }
   ],
   "source": [
    "from pymatgen.ext.matproj import MPRester\n",
    "from pymatgen import Lattice, Structure, Molecule\n",
    "from pymatgen.symmetry.analyzer import SpacegroupAnalyzer\n",
    "from pymatgen.io.cif import CifWriter \n",
    "\n",
    "with MPRester(\"6J45krBxKRTOXQdg\") as m:\n",
    "    structure = m.get_structure_by_material_id(\"mp-777047\")\n",
    "    file = CifWriter(structure)\n",
    "    file.write_file('Structure-LiTmO2')\n",
    "    \n",
    "    a = structure.lattice.a\n",
    "    b = structure.lattice.b\n",
    "    c = structure.lattice.c\n",
    "    a_rec = structure.lattice.reciprocal_lattice.a\n",
    "    b_rec = structure.lattice.reciprocal_lattice.b\n",
    "    c_rec = structure.lattice.reciprocal_lattice.c\n",
    "    \n",
    "    Analyzer = SpacegroupAnalyzer(structure)\n",
    "    lattice_type = Analyzer.get_lattice_type()\n",
    "    crystal_system = Analyzer.get_crystal_system()\n",
    "    point_group = Analyzer.get_point_group_symbol()"
   ]
  },
  {
   "cell_type": "code",
   "execution_count": null,
   "id": "south-samuel",
   "metadata": {},
   "outputs": [],
   "source": []
  }
 ],
 "metadata": {
  "kernelspec": {
   "display_name": "Python 3",
   "language": "python",
   "name": "python3"
  },
  "language_info": {
   "codemirror_mode": {
    "name": "ipython",
    "version": 3
   },
   "file_extension": ".py",
   "mimetype": "text/x-python",
   "name": "python",
   "nbconvert_exporter": "python",
   "pygments_lexer": "ipython3",
   "version": "3.6.8"
  }
 },
 "nbformat": 4,
 "nbformat_minor": 5
}

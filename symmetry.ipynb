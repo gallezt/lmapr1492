{
 "cells": [
  {
   "cell_type": "code",
   "execution_count": 20,
   "id": "greek-minimum",
   "metadata": {},
   "outputs": [],
   "source": [
    "from pymatgen.ext.matproj import MPRester\n",
    "from pymatgen.io.cif import CifWriter\n",
    "from jupyter_jsmol.pymatgen import quick_view\n",
    "\n",
    "with MPRester(\"6J45krBxKRTOXQdg\") as m:\n",
    "    structure = m.get_structure_by_material_id(\"mp-777047\")\n",
    "    file = CifWriter(structure)\n",
    "    file.write_file('Structure-LiTmO2')"
   ]
  },
  {
   "cell_type": "markdown",
   "id": "ignored-syndicate",
   "metadata": {},
   "source": [
    "On commence par étudier l'opération d'inversion $\\bar{1}$ sur l'atome de Lithium $Li$. Les vecteurs décrivant la positions de atomes sont transformés selon l'équation:$$\\begin{gather*}\n",
    "\\begin{pmatrix}\n",
    "    -1 & 0 & 0 \\\\ \n",
    "    0 & -1 & 0 \\\\ \n",
    "    0 & 0 & -1 \n",
    "\\end{pmatrix} \\quad\n",
    "\\begin{pmatrix}\n",
    "    x \\\\\n",
    "    y \\\\\n",
    "    z\n",
    "\\end{pmatrix} = \\quad\n",
    "\\begin{pmatrix}\n",
    "    -x \\\\\n",
    "    -y \\\\\n",
    "    -z\n",
    "\\end{pmatrix}\n",
    "\\end{gather*}$$Comme illustré ci-dessous, l'équivalent dans la maille conventionnelle de l'atome 15 de $Li$ après l'application de l'opération de symétrie est l'atome 23 de $Li$."
   ]
  },
  {
   "cell_type": "code",
   "execution_count": 21,
   "id": "absolute-invite",
   "metadata": {},
   "outputs": [
    {
     "data": {
      "application/vnd.jupyter.widget-view+json": {
       "model_id": "e4dd9d39a479492bbba56755cc53af65",
       "version_major": 2,
       "version_minor": 0
      },
      "text/plain": [
       "JsmolView(layout=Layout(align_self='stretch', height='400px'))"
      ]
     },
     "metadata": {},
     "output_type": "display_data"
    }
   ],
   "source": [
    "view = quick_view(structure, conventional=True)\n",
    "display(view)\n",
    "view.script(\"draw symop 2(atomno=15)\")"
   ]
  },
  {
   "cell_type": "markdown",
   "id": "clear-handle",
   "metadata": {},
   "source": [
    "On s'intéresse ensuite à l'opération de translation de vecteur (+2/3, +1/3, + 1/3) sur les atomes de Thulium $Tm$. Les vecteurs décrivant la positions de atomes sont transformés selon l'équation:\n",
    "$$\\begin{gather*} \n",
    "\\begin{pmatrix}\n",
    "    \\frac{2}{3}\\\\\n",
    "    \\frac{1}{3}\\\\\n",
    "    \\frac{1}{3}\n",
    "\\end{pmatrix} + \\quad\n",
    "\\begin{pmatrix}\n",
    "    x \\\\\n",
    "    y \\\\\n",
    "    z\n",
    "\\end{pmatrix} = \\quad\n",
    "\\begin{pmatrix}\n",
    "    x+\\frac{2}{3} \\\\\n",
    "    y +\\frac{1}{3} \\\\\n",
    "    z  +\\frac{1}{3} \\\\\n",
    "\\end{pmatrix}\n",
    "\\end{gather*}$$\n",
    "Comme illustré ci-dessous, l'équivalent dans la maille conventionnelle de l'atome 21 de $Tm$  après l'application de l'opération de symétrie est l'atome 16 de $Tm$.\n"
   ]
  },
  {
   "cell_type": "code",
   "execution_count": 5,
   "id": "sought-halloween",
   "metadata": {},
   "outputs": [
    {
     "data": {
      "application/vnd.jupyter.widget-view+json": {
       "model_id": "b5652617f12c489e98481ae56c510e65",
       "version_major": 2,
       "version_minor": 0
      },
      "text/plain": [
       "JsmolView(layout=Layout(align_self='stretch', height='400px'))"
      ]
     },
     "metadata": {},
     "output_type": "display_data"
    }
   ],
   "source": [
    "view = quick_view(structure, conventional=True)\n",
    "display(view)\n",
    "view.script(\"draw symop 13(atomno=21)\")"
   ]
  },
  {
   "cell_type": "markdown",
   "id": "alpine-march",
   "metadata": {},
   "source": [
    "On s'intéresse pour finir à une opération de roto-inversion sur un atome d'oxygène $O$. Les vecteurs décrivant la positions de atomes sont transformés selon l'équation:\n",
    "$$\\begin{gather*}\n",
    "\\begin{pmatrix}\n",
    "    -1 & 0 & 0 \\\\ \n",
    "    -1 & 1 & 0 \\\\ \n",
    "    0 & 0 & -1\n",
    "\\end{pmatrix} \\quad\n",
    "\\begin{pmatrix}\n",
    "    x \\\\\n",
    "    y \\\\\n",
    "    z\n",
    "\\end{pmatrix} = \\quad\n",
    "\\begin{pmatrix}\n",
    "    -x \\\\\n",
    "    -x+y \\\\\n",
    "    -z\n",
    "\\end{pmatrix}\n",
    "\\end{gather*}$$\n",
    "Comme illustré ci-dessous, l'équivalent dans la maille conventionnelle de l'atome 17 d'oxygène après l'application de l'opération de symétrie est l'atome 26 d'oxygène."
   ]
  },
  {
   "cell_type": "code",
   "execution_count": 23,
   "id": "determined-politics",
   "metadata": {},
   "outputs": [
    {
     "data": {
      "application/vnd.jupyter.widget-view+json": {
       "model_id": "03cdf557f376461ea880211cd5607229",
       "version_major": 2,
       "version_minor": 0
      },
      "text/plain": [
       "JsmolView(layout=Layout(align_self='stretch', height='400px'))"
      ]
     },
     "metadata": {},
     "output_type": "display_data"
    }
   ],
   "source": [
    "view = quick_view(structure, conventional=True)\n",
    "display(view)\n",
    "view.script(\"draw symop 11(atomno=17)\")"
   ]
  },
  {
   "cell_type": "code",
   "execution_count": null,
   "id": "democratic-frame",
   "metadata": {},
   "outputs": [],
   "source": []
  }
 ],
 "metadata": {
  "kernelspec": {
   "display_name": "Python 3",
   "language": "python",
   "name": "python3"
  },
  "language_info": {
   "codemirror_mode": {
    "name": "ipython",
    "version": 3
   },
   "file_extension": ".py",
   "mimetype": "text/x-python",
   "name": "python",
   "nbconvert_exporter": "python",
   "pygments_lexer": "ipython3",
   "version": "3.6.8"
  }
 },
 "nbformat": 4,
 "nbformat_minor": 5
}

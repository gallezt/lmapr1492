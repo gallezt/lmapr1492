{
 "cells": [
  {
   "cell_type": "code",
   "execution_count": 2,
   "id": "tired-sullivan",
   "metadata": {},
   "outputs": [],
   "source": [
    "from pymatgen.ext.matproj import MPRester\n",
    "from pymatgen.io.cif import CifWriter\n",
    "with MPRester(\"6J45krBxKRTOXQdg\") as m:\n",
    "    structure = m.get_structure_by_material_id(\"mp-777047\")\n",
    "    file = CifWriter(structure)\n",
    "    file.write_file('Structure-LiTmO2')"
   ]
  },
  {
   "cell_type": "code",
   "execution_count": null,
   "id": "weird-cable",
   "metadata": {},
   "outputs": [],
   "source": []
  }
 ],
 "metadata": {
  "kernelspec": {
   "display_name": "Python 3",
   "language": "python",
   "name": "python3"
  },
  "language_info": {
   "codemirror_mode": {
    "name": "ipython",
    "version": 3
   },
   "file_extension": ".py",
   "mimetype": "text/x-python",
   "name": "python",
   "nbconvert_exporter": "python",
   "pygments_lexer": "ipython3",
   "version": "3.6.8"
  }
 },
 "nbformat": 4,
 "nbformat_minor": 5
}
